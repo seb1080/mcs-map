{
 "cells": [
  {
   "cell_type": "code",
   "execution_count": 2,
   "metadata": {},
   "outputs": [],
   "source": [
    "# ref: https://datatracker.ietf.org/doc/html/rfc7946#section-1.3\n",
    "import pandas as pd\n",
    "import pandas_geojson as pg"
   ]
  },
  {
   "cell_type": "code",
   "execution_count": 3,
   "metadata": {},
   "outputs": [
    {
     "data": {
      "text/plain": [
       "dict"
      ]
     },
     "execution_count": 3,
     "metadata": {},
     "output_type": "execute_result"
    }
   ],
   "source": [
    "secteur1 = pg.read_geojson('../data/section_1.json')\n",
    "secteur2 = pg.read_geojson('../data/section_2.json')\n",
    "type(secteur1)"
   ]
  },
  {
   "cell_type": "code",
   "execution_count": 25,
   "metadata": {},
   "outputs": [],
   "source": [
    "coordinates = []\n",
    "\n",
    "for feature in secteur2['features']:\n",
    "    [firstItem, *rest] = feature['geometry']['coordinates']\n",
    "    coordinates = [*coordinates, *rest]\n",
    "\n",
    "secteurCopy = {\n",
    "    'type': 'LineString',\n",
    "    'properties': {},\n",
    "    'coordinates': coordinates,\n",
    "}\n",
    "\n",
    "pg.write_geojson(secteurCopy, filename='../data/secteur2_lineString.geojson', indent=4)"
   ]
  },
  {
   "cell_type": "code",
   "execution_count": 29,
   "metadata": {},
   "outputs": [
    {
     "name": "stdout",
     "output_type": "stream",
     "text": [
      "2217.71s - pydevd: Sending message related to process being replaced timed-out after 5 seconds\n"
     ]
    }
   ],
   "source": [
    "# Just add a ! bang in front of a command to run\n",
    "!ogr2ogr -f KML -a_srs EPSG:4326 secteur1_lineString.kml '../data/secteur1_lineString.geojson'"
   ]
  }
 ],
 "metadata": {
  "kernelspec": {
   "display_name": "geoenv",
   "language": "python",
   "name": "python3"
  },
  "language_info": {
   "codemirror_mode": {
    "name": "ipython",
    "version": 3
   },
   "file_extension": ".py",
   "mimetype": "text/x-python",
   "name": "python",
   "nbconvert_exporter": "python",
   "pygments_lexer": "ipython3",
   "version": "3.11.5"
  }
 },
 "nbformat": 4,
 "nbformat_minor": 2
}
