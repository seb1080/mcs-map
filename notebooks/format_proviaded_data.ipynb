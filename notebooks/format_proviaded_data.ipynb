{
 "cells": [
  {
   "cell_type": "code",
   "execution_count": 12,
   "metadata": {},
   "outputs": [],
   "source": [
    "# ref: https://datatracker.ietf.org/doc/html/rfc7946#section-1.3\n",
    "import pandas as pd\n",
    "import pandas_geojson as pg"
   ]
  },
  {
   "cell_type": "code",
   "execution_count": 13,
   "metadata": {},
   "outputs": [
    {
     "data": {
      "text/plain": [
       "dict"
      ]
     },
     "execution_count": 13,
     "metadata": {},
     "output_type": "execute_result"
    }
   ],
   "source": [
    "# convert GPX to GEOJSON and agrregate multisection to https://mapbox.github.io/togeojson/\n",
    "\n",
    "sectionSaturday = pg.read_geojson('../prepareData/track_samedi_10_fev_2024.json')\n",
    "# sectionSunday = pg.read_geojson('../prepareData/track_dimanche_11_fev_2024.json')\n",
    "type(sectionSaturday)"
   ]
  },
  {
   "cell_type": "code",
   "execution_count": null,
   "metadata": {},
   "outputs": [],
   "source": []
  }
 ],
 "metadata": {
  "kernelspec": {
   "display_name": "geoenv",
   "language": "python",
   "name": "python3"
  },
  "language_info": {
   "codemirror_mode": {
    "name": "ipython",
    "version": 3
   },
   "file_extension": ".py",
   "mimetype": "text/x-python",
   "name": "python",
   "nbconvert_exporter": "python",
   "pygments_lexer": "ipython3",
   "version": "3.11.5"
  }
 },
 "nbformat": 4,
 "nbformat_minor": 2
}
